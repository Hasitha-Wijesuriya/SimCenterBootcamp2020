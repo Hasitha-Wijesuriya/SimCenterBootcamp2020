{
 "cells": [
  {
   "cell_type": "markdown",
   "metadata": {},
   "source": [
    "# Exercise 4: File handling"
   ]
  },
  {
   "cell_type": "code",
   "execution_count": 1,
   "metadata": {},
   "outputs": [],
   "source": [
    "import numpy as np\n",
    "import matplotlib.pyplot as plt"
   ]
  },
  {
   "cell_type": "markdown",
   "metadata": {},
   "source": [
    "## Problem 1: \n",
    "\n",
    "Open and read the file 'ExampleData.txt'.  This file is a plain text file providing data as comma-separated list.  An example of this file looks like this:\n",
    "~~~\n",
    "1.0,0.0,\n",
    "1.0043021179718516,0.06331229237152888,\n",
    "1.0045749747914792,0.12716436093274708,\n",
    "1.0007678438038003,0.1912984977208162,\n",
    "...\n",
    "~~~\n",
    "Each line represents the X and Y coordinate on one point on a polygon.\n",
    "\n",
    "**Your tasks**: \n",
    "1. read this file making sure to implement proper exception handling.\n",
    "2. plot the polygon.  Make sure to preserve correct proportions and angles by setting equal axis scaling."
   ]
  },
  {
   "cell_type": "code",
   "execution_count": 19,
   "metadata": {},
   "outputs": [
    {
     "data": {
      "text/plain": [
       "(-4.225375026981957, 4.540019685997971, -4.36690957929339, 4.053174341780041)"
      ]
     },
     "execution_count": 19,
     "metadata": {},
     "output_type": "execute_result"
    },
    {
     "data": {
      "image/png": "[encoded data removed]",
      "text/plain": [
       "<Figure size 432x288 with 1 Axes>"
      ]
     },
     "metadata": {
      "needs_background": "light"
     },
     "output_type": "display_data"
    }
   ],
   "source": [
    "f = open('ExampleData.txt','r')\n",
    "x = []\n",
    "y = []\n",
    "\n",
    "for line in f:  \n",
    "    line_list = line.split(',')\n",
    "    #float_list = [float(s) for s in line_list]\n",
    "    float_list = []\n",
    "    for i in range(2):\n",
    "        #z = float(line_list[i])\n",
    "        float_list.append(float(line_list[i]))\n",
    "    x.append(float_list[0])    \n",
    "    y.append(float_list[1])   \n",
    "plt.plot(x,y,'-r')\n",
    "plt.axis('equal')\n",
    "\n"
   ]
  },
  {
   "cell_type": "markdown",
   "metadata": {},
   "source": [
    "## Problem 2: \n",
    "\n",
    "**Your tasks**: \n",
    "1. Using the **pandas** library, read 'SheetWind' from 'ExcelDemo.xlsx' and provide the mean, standard deviation, max, and min values for the columns 'vx1','vy1','vx2','vy2','vx3','vy3'\n",
    "2. plot 'vy2' against 'vx2'"
   ]
  },
  {
   "cell_type": "code",
   "execution_count": 20,
   "metadata": {},
   "outputs": [
    {
     "data": {
      "text/html": [
       "<div>\n",
       "<style scoped>\n",
       "    .dataframe tbody tr th:only-of-type {\n",
       "        vertical-align: middle;\n",
       "    }\n",
       "\n",
       "    .dataframe tbody tr th {\n",
       "        vertical-align: top;\n",
       "    }\n",
       "\n",
       "    .dataframe thead th {\n",
       "        text-align: right;\n",
       "    }\n",
       "</style>\n",
       "<table border=\"1\" class=\"dataframe\">\n",
       "  <thead>\n",
       "    <tr style=\"text-align: right;\">\n",
       "      <th></th>\n",
       "      <th>time</th>\n",
       "      <th>vx1</th>\n",
       "      <th>vy1</th>\n",
       "      <th>vx2</th>\n",
       "      <th>vy2</th>\n",
       "      <th>vx3</th>\n",
       "      <th>vy3</th>\n",
       "    </tr>\n",
       "  </thead>\n",
       "  <tbody>\n",
       "    <tr>\n",
       "      <th>0</th>\n",
       "      <td>0.0</td>\n",
       "      <td>2.000000</td>\n",
       "      <td>10.000000</td>\n",
       "      <td>3.000000</td>\n",
       "      <td>8.000000</td>\n",
       "      <td>1.000000</td>\n",
       "      <td>12.000000</td>\n",
       "    </tr>\n",
       "    <tr>\n",
       "      <th>1</th>\n",
       "      <td>0.1</td>\n",
       "      <td>2.530018</td>\n",
       "      <td>9.362233</td>\n",
       "      <td>3.575509</td>\n",
       "      <td>6.948282</td>\n",
       "      <td>1.832516</td>\n",
       "      <td>11.509018</td>\n",
       "    </tr>\n",
       "    <tr>\n",
       "      <th>2</th>\n",
       "      <td>0.2</td>\n",
       "      <td>2.871366</td>\n",
       "      <td>8.745577</td>\n",
       "      <td>3.810590</td>\n",
       "      <td>5.946026</td>\n",
       "      <td>2.464999</td>\n",
       "      <td>11.043243</td>\n",
       "    </tr>\n",
       "    <tr>\n",
       "      <th>3</th>\n",
       "      <td>0.3</td>\n",
       "      <td>3.049384</td>\n",
       "      <td>8.204839</td>\n",
       "      <td>3.759053</td>\n",
       "      <td>5.100123</td>\n",
       "      <td>2.957779</td>\n",
       "      <td>10.680751</td>\n",
       "    </tr>\n",
       "    <tr>\n",
       "      <th>4</th>\n",
       "      <td>0.4</td>\n",
       "      <td>3.104933</td>\n",
       "      <td>7.783719</td>\n",
       "      <td>3.507140</td>\n",
       "      <td>4.491350</td>\n",
       "      <td>3.399187</td>\n",
       "      <td>10.461622</td>\n",
       "    </tr>\n",
       "    <tr>\n",
       "      <th>...</th>\n",
       "      <td>...</td>\n",
       "      <td>...</td>\n",
       "      <td>...</td>\n",
       "      <td>...</td>\n",
       "      <td>...</td>\n",
       "      <td>...</td>\n",
       "      <td>...</td>\n",
       "    </tr>\n",
       "    <tr>\n",
       "      <th>996</th>\n",
       "      <td>99.6</td>\n",
       "      <td>-1.868865</td>\n",
       "      <td>11.587945</td>\n",
       "      <td>-2.382852</td>\n",
       "      <td>10.385074</td>\n",
       "      <td>3.399187</td>\n",
       "      <td>-10.461622</td>\n",
       "    </tr>\n",
       "    <tr>\n",
       "      <th>997</th>\n",
       "      <td>99.7</td>\n",
       "      <td>-0.698243</td>\n",
       "      <td>11.440906</td>\n",
       "      <td>-0.704805</td>\n",
       "      <td>10.264576</td>\n",
       "      <td>2.957779</td>\n",
       "      <td>-10.680751</td>\n",
       "    </tr>\n",
       "    <tr>\n",
       "      <th>998</th>\n",
       "      <td>99.8</td>\n",
       "      <td>0.364702</td>\n",
       "      <td>11.096718</td>\n",
       "      <td>0.812489</td>\n",
       "      <td>9.770570</td>\n",
       "      <td>2.464999</td>\n",
       "      <td>-11.043243</td>\n",
       "    </tr>\n",
       "    <tr>\n",
       "      <th>999</th>\n",
       "      <td>99.9</td>\n",
       "      <td>1.274208</td>\n",
       "      <td>10.598301</td>\n",
       "      <td>2.069776</td>\n",
       "      <td>8.980709</td>\n",
       "      <td>1.832516</td>\n",
       "      <td>-11.509018</td>\n",
       "    </tr>\n",
       "    <tr>\n",
       "      <th>1000</th>\n",
       "      <td>100.0</td>\n",
       "      <td>2.000000</td>\n",
       "      <td>10.000000</td>\n",
       "      <td>3.000000</td>\n",
       "      <td>8.000000</td>\n",
       "      <td>1.000000</td>\n",
       "      <td>-12.000000</td>\n",
       "    </tr>\n",
       "  </tbody>\n",
       "</table>\n",
       "<p>1001 rows × 7 columns</p>\n",
       "</div>"
      ],
      "text/plain": [
       "       time       vx1        vy1       vx2        vy2       vx3        vy3\n",
       "0       0.0  2.000000  10.000000  3.000000   8.000000  1.000000  12.000000\n",
       "1       0.1  2.530018   9.362233  3.575509   6.948282  1.832516  11.509018\n",
       "2       0.2  2.871366   8.745577  3.810590   5.946026  2.464999  11.043243\n",
       "3       0.3  3.049384   8.204839  3.759053   5.100123  2.957779  10.680751\n",
       "4       0.4  3.104933   7.783719  3.507140   4.491350  3.399187  10.461622\n",
       "...     ...       ...        ...       ...        ...       ...        ...\n",
       "996    99.6 -1.868865  11.587945 -2.382852  10.385074  3.399187 -10.461622\n",
       "997    99.7 -0.698243  11.440906 -0.704805  10.264576  2.957779 -10.680751\n",
       "998    99.8  0.364702  11.096718  0.812489   9.770570  2.464999 -11.043243\n",
       "999    99.9  1.274208  10.598301  2.069776   8.980709  1.832516 -11.509018\n",
       "1000  100.0  2.000000  10.000000  3.000000   8.000000  1.000000 -12.000000\n",
       "\n",
       "[1001 rows x 7 columns]"
      ]
     },
     "execution_count": 20,
     "metadata": {},
     "output_type": "execute_result"
    }
   ],
   "source": [
    "import pandas as pd\n",
    "pd.read_excel('ExcelDemo.xlsx', sheet_name='SheetWind')"
   ]
  },
  {
   "cell_type": "markdown",
   "metadata": {},
   "source": [
    "## Problem 3: \n",
    "\n",
    "**Your tasks**: \n",
    "1. Read 'ExampleData.txt' line by line and create a DataFrame object with the same content as that source file.  Make sure to add labels 'X' and 'Y' to th efirst and second column, respectively.\n",
    "2. write that information to an excel file named 'Problem3.xlsx'\n",
    "3. open the 'Problem3.xlsx' file in Excel and plot X versus Y. Verify that the file was created correctly by comparing the chart in Excel with your answer to Problem 1."
   ]
  },
  {
   "cell_type": "code",
   "execution_count": null,
   "metadata": {},
   "outputs": [],
   "source": []
  }
 ],
 "metadata": {
  "kernelspec": {
   "display_name": "Python 3",
   "language": "python",
   "name": "python3"
  },
  "language_info": {
   "codemirror_mode": {
    "name": "ipython",
    "version": 3
   },
   "file_extension": ".py",
   "mimetype": "text/x-python",
   "name": "python",
   "nbconvert_exporter": "python",
   "pygments_lexer": "ipython3",
   "version": "3.7.6"
  }
 },
 "nbformat": 4,
 "nbformat_minor": 4
}
