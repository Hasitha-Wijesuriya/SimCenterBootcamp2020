{
 "cells": [
  {
   "cell_type": "markdown",
   "metadata": {},
   "source": [
    "# Exercise 2: numpy"
   ]
  },
  {
   "cell_type": "code",
   "execution_count": 1,
   "metadata": {},
   "outputs": [],
   "source": [
    "import numpy as np"
   ]
  },
  {
   "cell_type": "markdown",
   "metadata": {},
   "source": [
    "## Problem 1: \n",
    "\n",
    "Compute\n",
    "$$\n",
    "   \\left[ \\begin{array}{ccc}\n",
    "   3 &  2 & 1 \\\\\n",
    "   6 & -3 & 0 \\\\\n",
    "   1 &  2 & 9 \\\\\n",
    "   \\end{array} \\right]\n",
    "   \\left[ \\begin{array}{ccc}\n",
    "   -4 & 1 \\\\\n",
    "    7 & 3 \\\\\n",
    "    2 & 5 \\\\\n",
    "   \\end{array} \\right]\n",
    "$$\n",
    "using **matrix** objects"
   ]
  },
  {
   "cell_type": "code",
   "execution_count": 15,
   "metadata": {},
   "outputs": [
    {
     "name": "stdout",
     "output_type": "stream",
     "text": [
      "[[ 3  2  1]\n",
      " [ 6 -3  0]\n",
      " [ 1  2  9]] \n",
      "\n",
      "[[-4  1]\n",
      " [ 7  3]\n",
      " [ 2  5]] \n",
      "\n",
      "[[  4  14]\n",
      " [-45  -3]\n",
      " [ 28  52]]\n"
     ]
    }
   ],
   "source": [
    "################\n",
    "# your solution\n",
    "################\n",
    "\n",
    "A = np.matrix([[3,2,1],[6,-3,0],[1,2,9]])\n",
    "print (A,'\\n')\n",
    "B = np.matrix([[-4,1],[7,3],[2,5]])\n",
    "print(B,'\\n')\n",
    "C = A*B\n",
    "\n",
    "print(C)"
   ]
  },
  {
   "cell_type": "markdown",
   "metadata": {},
   "source": [
    "Compute\n",
    "$$\n",
    "   \\left[ \\begin{array}{ccc}\n",
    "   3 &  2 & 1 \\\\\n",
    "   6 & -3 & 0 \\\\\n",
    "   1 &  2 & 9 \\\\\n",
    "   \\end{array} \\right]\n",
    "   \\left[ \\begin{array}{ccc}\n",
    "   -4 & 1 \\\\\n",
    "    7 & 3 \\\\\n",
    "    2 & 5 \\\\\n",
    "   \\end{array} \\right]\n",
    "$$\n",
    "using **array** objects"
   ]
  },
  {
   "cell_type": "code",
   "execution_count": 16,
   "metadata": {},
   "outputs": [
    {
     "name": "stdout",
     "output_type": "stream",
     "text": [
      "[[  4  14]\n",
      " [-45  -3]\n",
      " [ 28  52]]\n"
     ]
    }
   ],
   "source": [
    "D = np.array([[3,2,1],[6,-3,0],[1,2,9]])\n",
    "E = np.array([[-4,1],[7,3],[2,5]])\n",
    "F = D@E\n",
    "\n",
    "print(F)"
   ]
  },
  {
   "cell_type": "markdown",
   "metadata": {},
   "source": [
    "## Problem 2: \n",
    "\n",
    "Numpy provides random number generators for different distributions.\n",
    "You can find simple examples at [https://numpy.org/doc/stable/reference/random/index.html](https://numpy.org/doc/stable/reference/random/index.html)\n",
    "\n",
    "1. Write a function that outputs a list of 250 numbers in a normal distribution with (approximately) mean of 2.5 and standard deviation of 0.75. (check [https://numpy.org/doc/stable/reference/random/generated/numpy.random.normal.html#numpy.random.normal](https://numpy.org/doc/stable/reference/random/generated/numpy.random.normal.html#numpy.random.normal))\n",
    "2. Write a loop that uses this function to create 10 instances of such lists. Compute the actual mean and standard deviation and print them.\n",
    "3. Verify that the answers are indeed random by running your code multiple times."
   ]
  },
  {
   "cell_type": "code",
   "execution_count": 53,
   "metadata": {},
   "outputs": [
    {
     "name": "stdout",
     "output_type": "stream",
     "text": [
      "instance 1 \n",
      " mean = 2.4825702052198486   standered deviation = 0.6984266620167159 \n",
      "\n",
      "instance 2 \n",
      " mean = 2.484880441229045   standered deviation = 0.7493075793233172 \n",
      "\n",
      "instance 3 \n",
      " mean = 2.529161497313059   standered deviation = 0.706191714917457 \n",
      "\n",
      "instance 4 \n",
      " mean = 2.517468169225472   standered deviation = 0.6918856068798991 \n",
      "\n",
      "instance 5 \n",
      " mean = 2.537890564388952   standered deviation = 0.7031836264333823 \n",
      "\n",
      "instance 6 \n",
      " mean = 2.47424786915957   standered deviation = 0.8124950410499672 \n",
      "\n",
      "instance 7 \n",
      " mean = 2.537107047720678   standered deviation = 0.7399675943612871 \n",
      "\n",
      "instance 8 \n",
      " mean = 2.4969244683013323   standered deviation = 0.763201840649985 \n",
      "\n",
      "instance 9 \n",
      " mean = 2.5510487910359547   standered deviation = 0.702975121942357 \n",
      "\n",
      "instance 10 \n",
      " mean = 2.4563231246581947   standered deviation = 0.7429512773651358 \n",
      "\n"
     ]
    }
   ],
   "source": [
    "################\n",
    "# your solution\n",
    "################\n",
    "# mean and standered deviation\n",
    "mu, sigma = 2.5,0.75\n",
    "\n",
    "for i in range(10):\n",
    "    s = np.random.normal(mu, sigma, 250)\n",
    "    #mean = np.mean(s)\n",
    "    #std = np.std(s, ddof =1)\n",
    "    print ('instance {} \\n mean = {}   standered deviation = {} \\n'.format(i+1,np.mean(s),np.std(s, ddof =1)) )\n",
    "    #a = np.vstack([a,s])"
   ]
  },
  {
   "cell_type": "markdown",
   "metadata": {},
   "source": [
    "## Problem 3: \n",
    "\n",
    "1. Compute and print the eigenvalues, $\\lambda_i$, and eigenvectors, ${\\bf n}_i$, of\n",
    "$$\n",
    "   {\\bf A} =\n",
    "   \\left[ \\begin{array}{ccccc}\n",
    "   3 & 2 & 1 & 0 & 0 \\\\\n",
    "   2 & 3 & 2 & 1 & 0 \\\\\n",
    "   1 & 2 & 3 & 2 & 1 \\\\\n",
    "   0 & 1 & 2 & 3 & 2 \\\\\n",
    "   0 & 0 & 1 & 2 & 3 \n",
    "   \\end{array} \\right]\n",
    "$$\n",
    "2. Show that\n",
    "$$\n",
    "   {\\rm det}({\\bf A}) = \\prod_{i=1}^5 \\lambda_i\n",
    "$$\n",
    "3. Verify the following relation\n",
    "$$\n",
    "   {\\bf A} = \\sum_{i=1}^{5} \\lambda_i\\,{\\bf n}_i\\otimes{\\bf n}_i\n",
    "$$"
   ]
  },
  {
   "cell_type": "code",
   "execution_count": 55,
   "metadata": {},
   "outputs": [
    {
     "name": "stdout",
     "output_type": "stream",
     "text": [
      "[7.65427349 4.56155281 1.74770274 0.43844719 0.59802377] \n",
      "\n",
      "[[ 3.28733703e-01  5.57345410e-01  6.17548407e-01  4.35162146e-01\n",
      "   1.02801351e-01]\n",
      " [ 4.85676469e-01  4.35162146e-01 -1.78297793e-01 -5.57345410e-01\n",
      "  -4.82004424e-01]\n",
      " [ 5.58663621e-01 -1.71558655e-16 -4.16758592e-01 -2.00458955e-15\n",
      "   7.17082447e-01]\n",
      " [ 4.85676469e-01 -4.35162146e-01 -1.78297793e-01  5.57345410e-01\n",
      "  -4.82004424e-01]\n",
      " [ 3.28733703e-01 -5.57345410e-01  6.17548407e-01 -4.35162146e-01\n",
      "   1.02801351e-01]] \n",
      "\n"
     ]
    }
   ],
   "source": [
    "################\n",
    "# your solution\n",
    "################\n",
    "A = np.array([[3,2,1,0,0],[2,3,2,1,0],[1,2,3,2,1],[0,1,2,3,2],[0,0,1,2,3]])\n",
    "(lam,vec)=np.linalg.eig(A)\n",
    "print(lam,'\\n')\n",
    "print(vec,'\\n')\n",
    "\n",
    "\n"
   ]
  },
  {
   "cell_type": "code",
   "execution_count": 57,
   "metadata": {},
   "outputs": [
    {
     "name": "stdout",
     "output_type": "stream",
     "text": [
      "15.999999999999993 15.999999999999991\n"
     ]
    }
   ],
   "source": [
    "sum = 1\n",
    "for i in lam:\n",
    "    sum *= i\n",
    "\n",
    "print(sum,np.linalg.det(A))\n",
    "    \n",
    "if np.linalg.det(A) == sum:\n",
    "    print (\"det(A) = summation of eigen values\")\n"
   ]
  },
  {
   "cell_type": "code",
   "execution_count": 58,
   "metadata": {},
   "outputs": [
    {
     "name": "stdout",
     "output_type": "stream",
     "text": [
      "[[3.00000000e+00 2.00000000e+00 1.00000000e+00 1.17961196e-16\n",
      "  6.96491476e-16]\n",
      " [2.00000000e+00 3.00000000e+00 2.00000000e+00 1.00000000e+00\n",
      "  9.02056208e-16]\n",
      " [1.00000000e+00 2.00000000e+00 3.00000000e+00 2.00000000e+00\n",
      "  1.00000000e+00]\n",
      " [1.17961196e-16 1.00000000e+00 2.00000000e+00 3.00000000e+00\n",
      "  2.00000000e+00]\n",
      " [6.96491476e-16 9.02056208e-16 1.00000000e+00 2.00000000e+00\n",
      "  3.00000000e+00]]\n"
     ]
    }
   ],
   "source": [
    "x = np.zeros(shape=(5,5))\n",
    "for i in range(5):\n",
    "    y = lam[i]*np.outer(vec[:,i],vec[:,i])\n",
    "    x += y\n",
    "\n",
    "print (x)"
   ]
  },
  {
   "cell_type": "code",
   "execution_count": null,
   "metadata": {},
   "outputs": [],
   "source": []
  }
 ],
 "metadata": {
  "kernelspec": {
   "display_name": "Python 3",
   "language": "python",
   "name": "python3"
  },
  "language_info": {
   "codemirror_mode": {
    "name": "ipython",
    "version": 3
   },
   "file_extension": ".py",
   "mimetype": "text/x-python",
   "name": "python",
   "nbconvert_exporter": "python",
   "pygments_lexer": "ipython3",
   "version": "3.7.6"
  }
 },
 "nbformat": 4,
 "nbformat_minor": 4
}
