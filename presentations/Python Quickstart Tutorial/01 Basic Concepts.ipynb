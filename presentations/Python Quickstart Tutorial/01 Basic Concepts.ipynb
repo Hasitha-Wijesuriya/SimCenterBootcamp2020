{
 "cells": [
  {
   "cell_type": "markdown",
   "metadata": {},
   "source": [
    "# A Python Quick Start Tutorial - Part 1\n",
    "## by Peter Mackenzie-Helnwein\n",
    "University of Washington, Seattle, WA\n",
    "\n",
    "pmackenz@uw.edu          \n",
    "https://www.ce.washington.edu/facultyfinder/peter-mackenzie-helnwein"
   ]
  },
  {
   "cell_type": "markdown",
   "metadata": {},
   "source": [
    "# Basic Concepts"
   ]
  },
  {
   "cell_type": "markdown",
   "metadata": {},
   "source": [
    "This notebook is designed as a quick-start guide into python.  This tutorial assumes at least some familiarity with other programming languages such as Java or C/C++.  MATLAB and FORTRAN users are advised to pay special attention to indexing since python uses C-style indexing, i.e., $0 \\dots (n-1)$, while MATLAB and FORTRAN use $1 \\dots n$. It is by no means a comprehensive guide to python but rather highlights similarities and differences between these languages. \n",
    "\n",
    "For a comprehensive introduction to python, I highly recommend reading [The Python Tutorial](https://docs.python.org/3/tutorial/)"
   ]
  },
  {
   "cell_type": "markdown",
   "metadata": {},
   "source": [
    "## First step: Hello, World!"
   ]
  },
  {
   "cell_type": "code",
   "execution_count": 1,
   "metadata": {},
   "outputs": [
    {
     "name": "stdout",
     "output_type": "stream",
     "text": [
      "Hello, World!\n"
     ]
    }
   ],
   "source": [
    "print(\"Hello, World!\")"
   ]
  },
  {
   "cell_type": "markdown",
   "metadata": {},
   "source": [
    "Now that was easy!  What to look out for?  \n",
    "1. Commands are functions, i.e., argument are given in parenthesis.  No arguments require empty parentheses: print()\n",
    "2. strings are enclosed in quotes.  Python accepts single and double quotes, so \"Hello, World!\" and 'Hello, World!' are OK."
   ]
  },
  {
   "cell_type": "code",
   "execution_count": 50,
   "metadata": {},
   "outputs": [
    {
     "name": "stdout",
     "output_type": "stream",
     "text": [
      "Hello, World!\n",
      "ss \n",
      " sdss \n",
      " ss \n",
      "sdss \n",
      "\n"
     ]
    }
   ],
   "source": [
    "print('Hello, World!')\n",
    "a = 'ss \\n'\n",
    "b = 'sdss \\n'\n",
    "c = a + b\n",
    "print(a,b,c)"
   ]
  },
  {
   "cell_type": "markdown",
   "metadata": {},
   "source": [
    "## Creating Variables - no need for a fancy definition :)"
   ]
  },
  {
   "cell_type": "markdown",
   "metadata": {},
   "source": [
    "Variable definition happens on the fly.  The type is detected by the value given."
   ]
  },
  {
   "cell_type": "markdown",
   "metadata": {},
   "source": [
    "Let's do a simple example computing th ecircumference $cu=2 r \\pi$ or a circle:"
   ]
  },
  {
   "cell_type": "code",
   "execution_count": 10,
   "metadata": {},
   "outputs": [],
   "source": [
    "pi=3.141279\n",
    "R=10.5\n",
    "\n",
    "cu = 2*R*pi"
   ]
  },
  {
   "cell_type": "markdown",
   "metadata": {},
   "source": [
    "To display the result, just ask for the variable (not a good programming style!)"
   ]
  },
  {
   "cell_type": "code",
   "execution_count": 11,
   "metadata": {},
   "outputs": [
    {
     "data": {
      "text/plain": [
       "65.966859"
      ]
     },
     "execution_count": 11,
     "metadata": {},
     "output_type": "execute_result"
    }
   ],
   "source": [
    "cu"
   ]
  },
  {
   "cell_type": "markdown",
   "metadata": {},
   "source": [
    "The clean version of displaying anything from within a program is the **print** command"
   ]
  },
  {
   "cell_type": "code",
   "execution_count": 17,
   "metadata": {},
   "outputs": [
    {
     "name": "stdout",
     "output_type": "stream",
     "text": [
      "65.966859\n",
      "{}\n"
     ]
    }
   ],
   "source": [
    "print(cu)"
   ]
  },
  {
   "cell_type": "markdown",
   "metadata": {},
   "source": [
    "Some nicer formating using a template string with placeholders {}"
   ]
  },
  {
   "cell_type": "code",
   "execution_count": 13,
   "metadata": {},
   "outputs": [
    {
     "name": "stdout",
     "output_type": "stream",
     "text": [
      "2*10.5*pi = 65.966859\n"
     ]
    }
   ],
   "source": [
    "print(\"2*{}*pi = {}\".format(R,cu))"
   ]
  },
  {
   "cell_type": "markdown",
   "metadata": {},
   "source": [
    "**Did you notice: NO SEMICOLON !** (as in MATLAB, C, C++)"
   ]
  },
  {
   "cell_type": "markdown",
   "metadata": {},
   "source": [
    "## Structure by indentation"
   ]
  },
  {
   "cell_type": "markdown",
   "metadata": {},
   "source": [
    "Let's define a function named factor().  This function shall take an integer argument, n, and return n!"
   ]
  },
  {
   "cell_type": "code",
   "execution_count": 18,
   "metadata": {},
   "outputs": [],
   "source": [
    "def factor(n):\n",
    "    if n>1:\n",
    "        # we do a recursion using n! = n*(n-1)!\n",
    "        ans = n*factor(n-1)\n",
    "    else:\n",
    "        # this is our termination condition to stop the recursion\n",
    "        ans = 1\n",
    "    return ans"
   ]
  },
  {
   "cell_type": "markdown",
   "metadata": {},
   "source": [
    "1. Lines with the same amount of leading white space (indentation) belong to one group.  \n",
    "   1. Unlike C/C++, there is no need for { ... }.  In fact, the braces would be a syntax error.\n",
    "   2. Unlike MATLAB or FORTRAN, there is no need for an **end** statement.  Returning to the previous alignment ends a block of code.\n",
    "\n",
    "2. Moreover, the same concept applies to conditions: the keyword lines containing if and else require a colon (:) while the content gets another indentation.  \n",
    "\n",
    "3. Empty lines are ignored, so is everything after the #."
   ]
  },
  {
   "cell_type": "markdown",
   "metadata": {},
   "source": [
    "Here is how to use it to compute 5!"
   ]
  },
  {
   "cell_type": "code",
   "execution_count": 19,
   "metadata": {},
   "outputs": [
    {
     "data": {
      "text/plain": [
       "120"
      ]
     },
     "execution_count": 19,
     "metadata": {},
     "output_type": "execute_result"
    }
   ],
   "source": [
    "factor(5)"
   ]
  },
  {
   "cell_type": "markdown",
   "metadata": {},
   "source": [
    "Note that the **def** commend defined the function but only the above statement executed it.  This is a common beginner's mistake to assume that a definition would execute."
   ]
  },
  {
   "cell_type": "markdown",
   "metadata": {},
   "source": [
    "## Basic Data Types"
   ]
  },
  {
   "cell_type": "code",
   "execution_count": 52,
   "metadata": {},
   "outputs": [],
   "source": [
    "# integers\n",
    "a=3"
   ]
  },
  {
   "cell_type": "code",
   "execution_count": 42,
   "metadata": {},
   "outputs": [],
   "source": [
    "# floats\n",
    "b=1.2345"
   ]
  },
  {
   "cell_type": "code",
   "execution_count": 54,
   "metadata": {},
   "outputs": [],
   "source": [
    "# lists\n",
    "c=[1,2,3,4]"
   ]
  },
  {
   "cell_type": "code",
   "execution_count": 44,
   "metadata": {},
   "outputs": [],
   "source": [
    "# tuples\n",
    "d=(1,2,3,4)"
   ]
  },
  {
   "cell_type": "code",
   "execution_count": 45,
   "metadata": {},
   "outputs": [
    {
     "data": {
      "text/plain": [
       "'H'"
      ]
     },
     "execution_count": 45,
     "metadata": {},
     "output_type": "execute_result"
    }
   ],
   "source": [
    "# strings\n",
    "s=\"Hello, World!\"\n",
    "t='Hello, World!'  # also correct!\n",
    "len(t)\n",
    "t[0]"
   ]
  },
  {
   "cell_type": "code",
   "execution_count": 46,
   "metadata": {},
   "outputs": [
    {
     "data": {
      "text/plain": [
       "[2, 3, 4]"
      ]
     },
     "execution_count": 46,
     "metadata": {},
     "output_type": "execute_result"
    }
   ],
   "source": [
    "new_list=[4, 3.14127, 'Peter', [2,3,4]]\n",
    "new_list[3]"
   ]
  },
  {
   "cell_type": "code",
   "execution_count": 47,
   "metadata": {},
   "outputs": [],
   "source": [
    "# dictionaries\n",
    "cross_section={'area':1.2, 'moment_of_inertia':3.45, 'c_top':3.2, 'c_bottom':4.1}\n"
   ]
  },
  {
   "cell_type": "markdown",
   "metadata": {},
   "source": [
    "How to use those ..."
   ]
  },
  {
   "cell_type": "code",
   "execution_count": 48,
   "metadata": {},
   "outputs": [
    {
     "name": "stdout",
     "output_type": "stream",
     "text": [
      "[1, 2, 3, 4]\n"
     ]
    }
   ],
   "source": [
    "print(c)"
   ]
  },
  {
   "cell_type": "code",
   "execution_count": 55,
   "metadata": {},
   "outputs": [
    {
     "data": {
      "text/plain": [
       "12"
      ]
     },
     "execution_count": 55,
     "metadata": {},
     "output_type": "execute_result"
    }
   ],
   "source": [
    "a*c[3]   # note: indexing is identical to C and C++ indexing"
   ]
  },
  {
   "cell_type": "code",
   "execution_count": 56,
   "metadata": {},
   "outputs": [
    {
     "name": "stdout",
     "output_type": "stream",
     "text": [
      "{'area': 1.2, 'moment_of_inertia': 3.45, 'c_top': 3.2, 'c_bottom': 4.1}\n"
     ]
    }
   ],
   "source": [
    "print(cross_section)"
   ]
  },
  {
   "cell_type": "code",
   "execution_count": 57,
   "metadata": {},
   "outputs": [
    {
     "name": "stdout",
     "output_type": "stream",
     "text": [
      "dict_keys(['area', 'moment_of_inertia', 'c_top', 'c_bottom'])\n"
     ]
    }
   ],
   "source": [
    "print(cross_section.keys())"
   ]
  },
  {
   "cell_type": "code",
   "execution_count": 58,
   "metadata": {},
   "outputs": [
    {
     "name": "stdout",
     "output_type": "stream",
     "text": [
      "1.2\n"
     ]
    }
   ],
   "source": [
    "print(cross_section['area'])"
   ]
  },
  {
   "cell_type": "markdown",
   "metadata": {},
   "source": [
    "$$\n",
    "\\sigma = \\frac{F}{A} \\pm \\frac{M c}{I}\n",
    "$$"
   ]
  },
  {
   "cell_type": "code",
   "execution_count": 75,
   "metadata": {},
   "outputs": [
    {
     "name": "stdout",
     "output_type": "stream",
     "text": [
      "stresses:  top = 30.30434782608696 and bottom = 56.22463768115942\n",
      "stresses:  top =       30.304 and bottom =       56.225\n",
      "stresses:  top =    3.030e+01 and bottom =         56.2\n",
      "stresses:  top = 3.030e+01 and bottom =       56.225\n",
      "stresses:  top =  3.030e+01 and bottom =       56.225\n",
      "stresses:  top = 3.030e+01 and bottom =     56.2\n",
      "stresses:  top = 3.030e+01 and bottom =         56.2\n"
     ]
    }
   ],
   "source": [
    "force = 50.0\n",
    "moment = 12.25\n",
    "\n",
    "stress_top    = force/cross_section['area'] - moment*cross_section['c_top']/cross_section['moment_of_inertia']\n",
    "stress_bottom = force/cross_section['area'] + moment*cross_section['c_bottom']/cross_section['moment_of_inertia']\n",
    "\n",
    "print(\"stresses:  top = {} and bottom = {}\".format(stress_top,stress_bottom))\n",
    "print(\"stresses:  top = {:12.3f} and bottom = {:12.3f}\".format(stress_top,stress_bottom))\n",
    "#  {:12.3f} f - floating point format \n",
    "# e - engineering format\n",
    "# g - \n",
    "# 12 - how many characters held on the result\n",
    "print(\"stresses:  top = {:12.3e} and bottom = {:12.3g}\".format(stress_top,stress_bottom))\n",
    "print(\"stresses:  top = {:8.3e} and bottom = {:12.3f}\".format(stress_top,stress_bottom))\n",
    "print(\"stresses:  top = {:10.3e} and bottom = {:12.3f}\".format(stress_top,stress_bottom))\n",
    "print(\"stresses:  top = {:4.3e} and bottom = {:8.3g}\".format(stress_top,stress_bottom))\n",
    "print(\"stresses:  top = {:2.3e} and bottom = {:12.3g}\".format(stress_top,stress_bottom))\n"
   ]
  },
  {
   "cell_type": "markdown",
   "metadata": {},
   "source": [
    "### The traps ..."
   ]
  },
  {
   "cell_type": "markdown",
   "metadata": {},
   "source": [
    "Start by making a copy of the list, c, and naming it new:"
   ]
  },
  {
   "cell_type": "code",
   "execution_count": 76,
   "metadata": {},
   "outputs": [
    {
     "name": "stdout",
     "output_type": "stream",
     "text": [
      "[1, 2, 3, 4]\n"
     ]
    }
   ],
   "source": [
    "print(c)"
   ]
  },
  {
   "cell_type": "code",
   "execution_count": 77,
   "metadata": {},
   "outputs": [
    {
     "name": "stdout",
     "output_type": "stream",
     "text": [
      "[1, 2, 3, 4]\n",
      "[1, 2, 3, 4]\n"
     ]
    }
   ],
   "source": [
    "new = c\n",
    "print(c)\n",
    "print(new)"
   ]
  },
  {
   "cell_type": "markdown",
   "metadata": {},
   "source": [
    "Next, let's change the second entry in the list from 2 to 99:"
   ]
  },
  {
   "cell_type": "code",
   "execution_count": 78,
   "metadata": {},
   "outputs": [
    {
     "name": "stdout",
     "output_type": "stream",
     "text": [
      "[1, 99, 3, 4]\n"
     ]
    }
   ],
   "source": [
    "new[1] = 99\n",
    "print(new)"
   ]
  },
  {
   "cell_type": "markdown",
   "metadata": {},
   "source": [
    "We successfully changed new, but now look again at the original source list, c:"
   ]
  },
  {
   "cell_type": "code",
   "execution_count": 79,
   "metadata": {},
   "outputs": [
    {
     "name": "stdout",
     "output_type": "stream",
     "text": [
      "[1, 99, 3, 4]\n"
     ]
    }
   ],
   "source": [
    "print(c)"
   ]
  },
  {
   "cell_type": "markdown",
   "metadata": {},
   "source": [
    " This list was changed as well even though we did not access the list c, or did we?  ### The issue is that python variables actually are pointers (!).  The copy operation new = c copied th epointer to the list c to a pointer new, i.e., both are pointing to the same data.  Changing data for one means also changing data for the other."
   ]
  },
  {
   "cell_type": "markdown",
   "metadata": {},
   "source": [
    "The solution to this problem is to use the copy() method to generate a copy of the data from inside the list:"
   ]
  },
  {
   "cell_type": "code",
   "execution_count": 82,
   "metadata": {},
   "outputs": [
    {
     "name": "stdout",
     "output_type": "stream",
     "text": [
      "[1, 2, 3, 4]\n",
      "[1, 99, 3, 4]\n"
     ]
    }
   ],
   "source": [
    "c=[1,2,3,4]\n",
    "new=c.copy()\n",
    "new[1]=99\n",
    "print(c)\n",
    "print(new)"
   ]
  },
  {
   "cell_type": "markdown",
   "metadata": {},
   "source": [
    "When to use copy() and when not to use it?  As a rule of thumb, don't use copy() unless you have an important reason to duplicate data!  I rarely need to."
   ]
  },
  {
   "cell_type": "markdown",
   "metadata": {},
   "source": [
    "### list versus tuple"
   ]
  },
  {
   "cell_type": "code",
   "execution_count": 83,
   "metadata": {},
   "outputs": [
    {
     "name": "stdout",
     "output_type": "stream",
     "text": [
      "[1, 2, 3, 4]\n",
      "(1, 2, 3, 4)\n"
     ]
    }
   ],
   "source": [
    "print(c)\n",
    "print(d)"
   ]
  },
  {
   "cell_type": "code",
   "execution_count": 84,
   "metadata": {},
   "outputs": [
    {
     "name": "stdout",
     "output_type": "stream",
     "text": [
      "differ\n"
     ]
    }
   ],
   "source": [
    "if c==d:\n",
    "    print('equal')\n",
    "else:\n",
    "    print('differ')"
   ]
  },
  {
   "cell_type": "code",
   "execution_count": 85,
   "metadata": {},
   "outputs": [
    {
     "name": "stdout",
     "output_type": "stream",
     "text": [
      "equal\n"
     ]
    }
   ],
   "source": [
    "if c[0]==d[0] and c[1]==d[1] and c[2]==d[2] and c[3]==d[3]:\n",
    "    print('equal')\n",
    "else:\n",
    "    print('differ')"
   ]
  },
  {
   "cell_type": "markdown",
   "metadata": {},
   "source": [
    "So while they are DIFFERENT objects, their content is IDENTICAL.  So what makes them different?"
   ]
  },
  {
   "cell_type": "code",
   "execution_count": 86,
   "metadata": {},
   "outputs": [
    {
     "data": {
      "text/plain": [
       "[1, 2, 3, -1]"
      ]
     },
     "execution_count": 86,
     "metadata": {},
     "output_type": "execute_result"
    }
   ],
   "source": [
    "c[3]=-1\n",
    "c"
   ]
  },
  {
   "cell_type": "code",
   "execution_count": 87,
   "metadata": {},
   "outputs": [
    {
     "ename": "TypeError",
     "evalue": "'tuple' object does not support item assignment",
     "output_type": "error",
     "traceback": [
      "\u001b[1;31m---------------------------------------------------------------------------\u001b[0m",
      "\u001b[1;31mTypeError\u001b[0m                                 Traceback (most recent call last)",
      "\u001b[1;32m<ipython-input-87-eeed19604812>\u001b[0m in \u001b[0;36m<module>\u001b[1;34m\u001b[0m\n\u001b[1;32m----> 1\u001b[1;33m \u001b[0md\u001b[0m\u001b[1;33m[\u001b[0m\u001b[1;36m3\u001b[0m\u001b[1;33m]\u001b[0m\u001b[1;33m=\u001b[0m\u001b[1;33m-\u001b[0m\u001b[1;36m1\u001b[0m\u001b[1;33m\u001b[0m\u001b[1;33m\u001b[0m\u001b[0m\n\u001b[0m",
      "\u001b[1;31mTypeError\u001b[0m: 'tuple' object does not support item assignment"
     ]
    }
   ],
   "source": [
    "d[3]=-1"
   ]
  },
  {
   "cell_type": "markdown",
   "metadata": {},
   "source": [
    "The reason for this error os the difference: lists are mutable, i.e., modifyable, while tuples are not!  Tuples are a great means of protecting data handed to a function by providing value but not access to (accidentally) modify that data."
   ]
  },
  {
   "cell_type": "markdown",
   "metadata": {},
   "source": [
    "## Slicing\n",
    "\n",
    "Slicing is the term for breaking lists into parts, or sublists.  The most fundamental pieve is a single element, identified by his index, i.  To best understand the python indexing, remember that a list variable is solely a pointer to the data, i.e., the start of the list.  The variable lst is, thus, the same pointer as lst[0]: both point to the first element in the list."
   ]
  },
  {
   "cell_type": "code",
   "execution_count": 88,
   "metadata": {},
   "outputs": [],
   "source": [
    "lst = [1,2,3,4,5]"
   ]
  },
  {
   "cell_type": "code",
   "execution_count": 89,
   "metadata": {},
   "outputs": [
    {
     "data": {
      "text/plain": [
       "1"
      ]
     },
     "execution_count": 89,
     "metadata": {},
     "output_type": "execute_result"
    }
   ],
   "source": [
    "lst[0]"
   ]
  },
  {
   "cell_type": "markdown",
   "metadata": {},
   "source": [
    "The element lst[i] is a pointer to the start of the list plus i*length_of_the_data_element.  If a list has n elements, the data used in memory is n*length_of_the_data_element.  A reference lst[n] would point at the first byte AFTER the lst data (!) and as such, be a memory violation."
   ]
  },
  {
   "cell_type": "code",
   "execution_count": 90,
   "metadata": {},
   "outputs": [
    {
     "data": {
      "text/plain": [
       "5"
      ]
     },
     "execution_count": 90,
     "metadata": {},
     "output_type": "execute_result"
    }
   ],
   "source": [
    "n=len(lst)\n",
    "n"
   ]
  },
  {
   "cell_type": "markdown",
   "metadata": {},
   "source": [
    "5 elements are: lst[0], lst[1], lst[2], lst[3], and lst[4].\n",
    "\n",
    "This behavior is reflected by the **range** command, where range(5) generates a list of 5 list indices:"
   ]
  },
  {
   "cell_type": "code",
   "execution_count": 91,
   "metadata": {},
   "outputs": [
    {
     "data": {
      "text/plain": [
       "[0, 1, 2, 3, 4]"
      ]
     },
     "execution_count": 91,
     "metadata": {},
     "output_type": "execute_result"
    }
   ],
   "source": [
    "list(range(5))"
   ]
  },
  {
   "cell_type": "markdown",
   "metadata": {},
   "source": [
    "range(n) actually generates an iterator, which is a data type more efficient for looping then the actual list.  The list(...) command converts it to a list so we can actually print it."
   ]
  },
  {
   "cell_type": "markdown",
   "metadata": {},
   "source": [
    "Python treats a string as a list of characters, so the indexing picks a character out of a string:"
   ]
  },
  {
   "cell_type": "code",
   "execution_count": 92,
   "metadata": {},
   "outputs": [],
   "source": [
    "s=\"SimCenter Programing Bootcamp 2020\""
   ]
  },
  {
   "cell_type": "code",
   "execution_count": 93,
   "metadata": {},
   "outputs": [
    {
     "data": {
      "text/plain": [
       "'C'"
      ]
     },
     "execution_count": 93,
     "metadata": {},
     "output_type": "execute_result"
    }
   ],
   "source": [
    "s[3]"
   ]
  },
  {
   "cell_type": "markdown",
   "metadata": {},
   "source": [
    "Once again, s is a pointer to the first element of the string and s[0] is the first character (or zero characters after the first). s[3] is the fouth character, or three characters after the first.\n",
    "\n",
    "Python also allows us to select a range of elements using [start:end] syntax. [:n] states first to n-th, [n:] states (n+1)st to the end."
   ]
  },
  {
   "cell_type": "code",
   "execution_count": 94,
   "metadata": {},
   "outputs": [
    {
     "data": {
      "text/plain": [
       "'SimCenter'"
      ]
     },
     "execution_count": 94,
     "metadata": {},
     "output_type": "execute_result"
    }
   ],
   "source": [
    "word1 = s[:9]\n",
    "word1"
   ]
  },
  {
   "cell_type": "code",
   "execution_count": 95,
   "metadata": {},
   "outputs": [
    {
     "data": {
      "text/plain": [
       "' Programing Bootcamp 2020'"
      ]
     },
     "execution_count": 95,
     "metadata": {},
     "output_type": "execute_result"
    }
   ],
   "source": [
    "word2 = s[9:]\n",
    "word2"
   ]
  },
  {
   "cell_type": "markdown",
   "metadata": {},
   "source": [
    "Note that both slices have '9' in their list, but they do not share any characters.  Instead, \n",
    "~~~\n",
    "s == s[:n] + s[n:]\n",
    "~~~"
   ]
  },
  {
   "cell_type": "code",
   "execution_count": 96,
   "metadata": {},
   "outputs": [
    {
     "name": "stdout",
     "output_type": "stream",
     "text": [
      "SimCenter Programing Bootcamp 2020\n"
     ]
    }
   ],
   "source": [
    "print(word1 + word2)"
   ]
  },
  {
   "cell_type": "markdown",
   "metadata": {},
   "source": [
    "Using s[:] means all characters start to end.  However, while s is a pointer to the string, s[:] is a pointer to a full copy of the string.  This comes in handy when we need the copy rather than a copy of a pointer."
   ]
  },
  {
   "cell_type": "code",
   "execution_count": 99,
   "metadata": {},
   "outputs": [
    {
     "name": "stdout",
     "output_type": "stream",
     "text": [
      "t1:   [2, 5, 8, 11, 14, 17]\n",
      "t2:   [2, 5, 8, 11, 14, 17]\n",
      "lst:  [2, 5, 8, 11, 14, 17] \n",
      "\n",
      "t1:   [2, 5, 8, 999, 14, 17]\n",
      "t2:   [2, 5, 8, 11, 14, 17]\n",
      "lst:  [2, 5, 8, 999, 14, 17] \n",
      "\n",
      "t1:   [2, 5, 8, 999, 14, 17]\n",
      "t2:   [2, -999, 8, 11, 14, 17]\n",
      "lst:  [2, 5, 8, 999, 14, 17] \n",
      "\n"
     ]
    }
   ],
   "source": [
    "lst = list(range(2,20,3))\n",
    "t1=lst\n",
    "# t1 and lst pointing to the same data\n",
    "\n",
    "# t2 points to a copy of the data\n",
    "t2=lst[:]\n",
    "\n",
    "print(\"t1:  \",t1)\n",
    "print(\"t2:  \",t2)\n",
    "print(\"lst: \",lst, '\\n')\n",
    "\n",
    "t1[3] = 999   # THIS ALSO CHANGES lst\n",
    "\n",
    "print(\"t1:  \",t1)\n",
    "print(\"t2:  \",t2)\n",
    "print(\"lst: \",lst, '\\n')\n",
    "\n",
    "t2[1] = -999   # THIS ONLY CHANGES t2\n",
    "\n",
    "print(\"t1:  \",t1)\n",
    "print(\"t2:  \",t2)\n",
    "print(\"lst: \",lst, '\\n')\n"
   ]
  },
  {
   "cell_type": "markdown",
   "metadata": {},
   "source": [
    "### Boolean variables\n",
    "\n",
    "Boolean variables hold a True or False value.  In addition to those two values, python treats the following as **True**:\n",
    "1. True\n",
    "2. any non-zero numeric value\n",
    "3. a non-empty list\n",
    "4. a non-empty tuple\n",
    "5. a non-empty dictionary\n",
    "6. a non-empty string\n",
    "7. an existing object/instance of a class (we will learn about that later)\n",
    "\n",
    "In contrast, the following are treated as **False**:\n",
    "1. False\n",
    "2. 0 (int) or 0.0 (float)\n",
    "3. empty list: []\n",
    "4. empty tuple: tuple()\n",
    "5. empty dictionary: {}\n",
    "6. empty string: ''\n",
    "7. empty pointer: None"
   ]
  },
  {
   "cell_type": "code",
   "execution_count": 124,
   "metadata": {},
   "outputs": [],
   "source": [
    "# bool\n",
    "u = True\n",
    "v = False"
   ]
  },
  {
   "cell_type": "code",
   "execution_count": 125,
   "metadata": {},
   "outputs": [
    {
     "name": "stdout",
     "output_type": "stream",
     "text": [
      "None\n"
     ]
    }
   ],
   "source": [
    "a = None\n",
    "print (a)"
   ]
  },
  {
   "cell_type": "markdown",
   "metadata": {},
   "source": [
    "Booleans can be combined by logical operators **and**, **or**, **not** to form more complex conditions.  When combining booleans, python (and most other programming languages) analyze a combined expression from the left to the right and stop computing once an answer is found.  You can control the sequence of operation by parenthesis the same way you do basic algebra with floats."
   ]
  },
  {
   "cell_type": "code",
   "execution_count": 126,
   "metadata": {},
   "outputs": [
    {
     "data": {
      "text/plain": [
       "False"
      ]
     },
     "execution_count": 126,
     "metadata": {},
     "output_type": "execute_result"
    }
   ],
   "source": [
    "u and v   # both need to be True.  This evaluates to False"
   ]
  },
  {
   "cell_type": "code",
   "execution_count": 127,
   "metadata": {},
   "outputs": [
    {
     "data": {
      "text/plain": [
       "True"
      ]
     },
     "execution_count": 127,
     "metadata": {},
     "output_type": "execute_result"
    }
   ],
   "source": [
    "u or v    # '1' is True, 'or' requires only one of th etwo options to be True, so it doesn't even look at v"
   ]
  },
  {
   "cell_type": "code",
   "execution_count": 128,
   "metadata": {},
   "outputs": [
    {
     "data": {
      "text/plain": [
       "1"
      ]
     },
     "execution_count": 128,
     "metadata": {},
     "output_type": "execute_result"
    }
   ],
   "source": [
    "(u and 1) or v   # computes to '1', which is True"
   ]
  },
  {
   "cell_type": "code",
   "execution_count": 129,
   "metadata": {},
   "outputs": [
    {
     "data": {
      "text/plain": [
       "True"
      ]
     },
     "execution_count": 129,
     "metadata": {},
     "output_type": "execute_result"
    }
   ],
   "source": [
    "u or v and 1"
   ]
  },
  {
   "cell_type": "code",
   "execution_count": 130,
   "metadata": {},
   "outputs": [
    {
     "data": {
      "text/plain": [
       "''"
      ]
     },
     "execution_count": 130,
     "metadata": {},
     "output_type": "execute_result"
    }
   ],
   "source": [
    "u and ''   # the result is th elast computed value, here '' (empty string), which is interpreted as False"
   ]
  },
  {
   "cell_type": "markdown",
   "metadata": {},
   "source": [
    "Booleans are typically used in conditions.  Here a few examples."
   ]
  },
  {
   "cell_type": "code",
   "execution_count": 131,
   "metadata": {},
   "outputs": [
    {
     "name": "stdout",
     "output_type": "stream",
     "text": [
      "a is greater than 3\n"
     ]
    }
   ],
   "source": [
    "a = 5.5\n",
    "\n",
    "if a>3:\n",
    "    print('a is greater than 3')"
   ]
  },
  {
   "cell_type": "markdown",
   "metadata": {},
   "source": [
    "Keep in mind that conditions yield a boolean **VALUE** and, thus, the result can be stored in another boolean variable."
   ]
  },
  {
   "cell_type": "code",
   "execution_count": 132,
   "metadata": {},
   "outputs": [
    {
     "name": "stdout",
     "output_type": "stream",
     "text": [
      "Peter is tall and health (and handsome;)\n"
     ]
    }
   ],
   "source": [
    "d = {'name':'Peter', 'age':54, 'height':6.5, 'weight':215}\n",
    "\n",
    "is_tall = d['height'] >= 6.0\n",
    "is_heavy = d['weight'] >= 180.\n",
    "BMI = 703*d['weight']/d['height']**2/144    # Body Mass Index in English units\n",
    "is_overweight = BMI > 25 and BMI <= 30\n",
    "is_obese = BMI > 30\n",
    "\n",
    "is_tall_and_healthy = is_tall and not (is_overweight or is_obese)\n",
    "\n",
    "if is_tall_and_healthy:\n",
    "    print(\"{} is tall and health (and handsome;)\".format(d['name']))"
   ]
  },
  {
   "cell_type": "markdown",
   "metadata": {},
   "source": [
    "Examples of stupid coding that shows that the programmer does not yet understand boolean variables and conditions:"
   ]
  },
  {
   "cell_type": "code",
   "execution_count": 134,
   "metadata": {},
   "outputs": [
    {
     "name": "stdout",
     "output_type": "stream",
     "text": [
      "True\n"
     ]
    }
   ],
   "source": [
    "a = True\n",
    "\n",
    "if a==True:   # 'if a:' would be correct\n",
    "    print(True)"
   ]
  },
  {
   "cell_type": "code",
   "execution_count": 135,
   "metadata": {},
   "outputs": [
    {
     "name": "stdout",
     "output_type": "stream",
     "text": [
      "True\n"
     ]
    }
   ],
   "source": [
    "a = True\n",
    "\n",
    "if a:   # 'if a:' would be correct\n",
    "    print(a)"
   ]
  },
  {
   "cell_type": "code",
   "execution_count": 136,
   "metadata": {},
   "outputs": [
    {
     "name": "stdout",
     "output_type": "stream",
     "text": [
      "oh my!\n"
     ]
    }
   ],
   "source": [
    "a = 1\n",
    "\n",
    "if (a==1)==True:      # 'is a' would do the same thing\n",
    "    print('oh my!')"
   ]
  },
  {
   "cell_type": "code",
   "execution_count": 168,
   "metadata": {},
   "outputs": [
    {
     "name": "stdout",
     "output_type": "stream",
     "text": [
      "oh my!\n"
     ]
    }
   ],
   "source": [
    "a = 1\n",
    "\n",
    "if (a==1)==True:      # 'is a' would do the same thing\n",
    "    print('oh my!')"
   ]
  },
  {
   "cell_type": "code",
   "execution_count": 159,
   "metadata": {},
   "outputs": [
    {
     "data": {
      "text/plain": [
       "True"
      ]
     },
     "execution_count": 159,
     "metadata": {},
     "output_type": "execute_result"
    }
   ],
   "source": [
    "'vdcsnvnd' > 'monday'\n",
    "# this first order the string in the alphabetical order and gives the bottom most one the higher value"
   ]
  },
  {
   "cell_type": "code",
   "execution_count": 162,
   "metadata": {},
   "outputs": [
    {
     "name": "stdout",
     "output_type": "stream",
     "text": [
      "yes!\n"
     ]
    }
   ],
   "source": [
    "a =1\n",
    "# 1 is taken as true value\n",
    "if a:\n",
    "    print(\"yes!\")"
   ]
  },
  {
   "cell_type": "code",
   "execution_count": 177,
   "metadata": {},
   "outputs": [
    {
     "name": "stdout",
     "output_type": "stream",
     "text": [
      "0.8660254037844386\n"
     ]
    }
   ],
   "source": [
    "import math\n",
    "cond = math.sin(math.pi/3) or \"Friday\" < \"Weekend\"\n",
    "print (cond)"
   ]
  },
  {
   "cell_type": "code",
   "execution_count": 175,
   "metadata": {},
   "outputs": [
    {
     "name": "stdout",
     "output_type": "stream",
     "text": [
      "it's true\n"
     ]
    }
   ],
   "source": [
    "if cond:\n",
    "    print(\"it\\'s True\")\n",
    "else:\n",
    "    print(\"it\\'s False\")"
   ]
  },
  {
   "cell_type": "markdown",
   "metadata": {},
   "source": [
    "## Loops"
   ]
  },
  {
   "cell_type": "markdown",
   "metadata": {},
   "source": [
    "### looping through all data"
   ]
  },
  {
   "cell_type": "markdown",
   "metadata": {},
   "source": [
    "Python loops through items in a list (or tuple)!  This is quite different from MATLAB or even C++, so be careful"
   ]
  },
  {
   "cell_type": "code",
   "execution_count": 106,
   "metadata": {},
   "outputs": [
    {
     "name": "stdout",
     "output_type": "stream",
     "text": [
      "[1, 2, 3, -1]\n"
     ]
    }
   ],
   "source": [
    "print(c)"
   ]
  },
  {
   "cell_type": "code",
   "execution_count": 107,
   "metadata": {},
   "outputs": [
    {
     "name": "stdout",
     "output_type": "stream",
     "text": [
      "1\n",
      "2\n",
      "3\n",
      "-1\n"
     ]
    }
   ],
   "source": [
    "for x in c:\n",
    "    print(x)"
   ]
  },
  {
   "cell_type": "code",
   "execution_count": 108,
   "metadata": {},
   "outputs": [
    {
     "name": "stdout",
     "output_type": "stream",
     "text": [
      "(1, 2, 3, 4)\n"
     ]
    }
   ],
   "source": [
    "print(d)"
   ]
  },
  {
   "cell_type": "code",
   "execution_count": 109,
   "metadata": {},
   "outputs": [
    {
     "name": "stdout",
     "output_type": "stream",
     "text": [
      "1\n",
      "2\n",
      "3\n",
      "4\n"
     ]
    }
   ],
   "source": [
    "for x in d:\n",
    "    print(x)"
   ]
  },
  {
   "cell_type": "markdown",
   "metadata": {},
   "source": [
    "An interesting list type is a string: python views strings as lists of characters:"
   ]
  },
  {
   "cell_type": "code",
   "execution_count": 110,
   "metadata": {},
   "outputs": [
    {
     "name": "stdout",
     "output_type": "stream",
     "text": [
      "SimCenter Programing Bootcamp 2020 \n",
      "\n"
     ]
    }
   ],
   "source": [
    "print(s,'\\n')"
   ]
  },
  {
   "cell_type": "code",
   "execution_count": 180,
   "metadata": {},
   "outputs": [
    {
     "name": "stdout",
     "output_type": "stream",
     "text": [
      "S\n",
      "i\n",
      "m\n",
      "C\n",
      "e\n",
      "n\n",
      "t\n",
      "e\n",
      "r\n",
      " \n",
      "P\n",
      "r\n",
      "o\n",
      "g\n",
      "r\n",
      "a\n",
      "m\n",
      "i\n",
      "n\n",
      "g\n",
      " \n",
      "B\n",
      "o\n",
      "o\n",
      "t\n",
      "c\n",
      "a\n",
      "m\n",
      "p\n",
      " \n",
      "2\n",
      "0\n",
      "2\n",
      "0\n"
     ]
    }
   ],
   "source": [
    "for ch in s:\n",
    "    #if ch == \"a\":\n",
    "        print(ch)"
   ]
  },
  {
   "cell_type": "code",
   "execution_count": 181,
   "metadata": {},
   "outputs": [
    {
     "data": {
      "text/plain": [
       "{'area': 1.2, 'moment_of_inertia': 3.45, 'c_top': 3.2, 'c_bottom': 4.1}"
      ]
     },
     "execution_count": 181,
     "metadata": {},
     "output_type": "execute_result"
    }
   ],
   "source": [
    "cross_section"
   ]
  },
  {
   "cell_type": "code",
   "execution_count": 183,
   "metadata": {},
   "outputs": [
    {
     "name": "stdout",
     "output_type": "stream",
     "text": [
      "key: 'area' points to value: '1.2'\n",
      "key: 'moment_of_inertia' points to value: '3.45'\n",
      "key: 'c_top' points to value: '3.2'\n",
      "key: 'c_bottom' points to value: '4.1'\n"
     ]
    }
   ],
   "source": [
    "for k in cross_section:\n",
    "    print(\"key: '{}' points to value: '{}'\".format(k,cross_section[k]))"
   ]
  },
  {
   "cell_type": "markdown",
   "metadata": {},
   "source": [
    "### conditional loops"
   ]
  },
  {
   "cell_type": "markdown",
   "metadata": {},
   "source": [
    "Skipping execution for an entry inside a for loop:"
   ]
  },
  {
   "cell_type": "code",
   "execution_count": 117,
   "metadata": {},
   "outputs": [
    {
     "data": {
      "text/plain": [
       "0"
      ]
     },
     "execution_count": 117,
     "metadata": {},
     "output_type": "execute_result"
    }
   ],
   "source": [
    "a = range(5)\n",
    "a[0]"
   ]
  },
  {
   "cell_type": "code",
   "execution_count": 114,
   "metadata": {},
   "outputs": [
    {
     "name": "stdout",
     "output_type": "stream",
     "text": [
      "0\n",
      "1\n",
      "3\n",
      "4\n"
     ]
    }
   ],
   "source": [
    "for i in range(5):\n",
    "    if i==2:\n",
    "        continue\n",
    "    print(i)"
   ]
  },
  {
   "cell_type": "markdown",
   "metadata": {},
   "source": [
    "Terminating a for loop once a certain condition is met:"
   ]
  },
  {
   "cell_type": "code",
   "execution_count": 118,
   "metadata": {},
   "outputs": [
    {
     "name": "stdout",
     "output_type": "stream",
     "text": [
      "0\n",
      "1\n",
      "2\n",
      "3\n"
     ]
    }
   ],
   "source": [
    "for i in range(5):\n",
    "    if i==4:\n",
    "        break\n",
    "    print(i)"
   ]
  },
  {
   "cell_type": "markdown",
   "metadata": {},
   "source": [
    "Did you notice that range(5) created the sequence [0,1,2,3,4] ? It created the indices for 5 array entries: 0 to 4, just as we need in python or C/C++ arrays."
   ]
  },
  {
   "cell_type": "markdown",
   "metadata": {},
   "source": [
    "Another conditional loop is the **while loop**.  Let's demonstrate it by implementing Newton's algorithm to iteratively find the root of a nonlinear function.\n",
    "\n",
    "**Note**: this is a quick and dirty implementation without error checking!"
   ]
  },
  {
   "cell_type": "code",
   "execution_count": 184,
   "metadata": {},
   "outputs": [
    {
     "name": "stdout",
     "output_type": "stream",
     "text": [
      "<function F at 0x0000024C833B4EE8>\n",
      "**   1.0000000000000000 has error 2.000000e+00\n",
      "**   2.0000000000000000 has error 1.000000e+00\n",
      "**   1.7500000000000000 has error 6.250000e-02\n",
      "**   1.7321428571428572 has error 3.188776e-04\n",
      "**   1.7320508100147276 has error 8.472674e-09\n",
      "**   1.7320508075688772 has error 4.440892e-16\n",
      "1.7320508075688772\n",
      "**  -1.0000000000000000 has error 2.000000e+00\n",
      "**  -2.0000000000000000 has error 1.000000e+00\n",
      "**  -1.7500000000000000 has error 6.250000e-02\n",
      "**  -1.7321428571428572 has error 3.188776e-04\n",
      "**  -1.7320508100147276 has error 8.472674e-09\n",
      "**  -1.7320508075688772 has error 4.440892e-16\n",
      "-1.7320508075688772\n"
     ]
    }
   ],
   "source": [
    "# defining the function\n",
    "import math\n",
    "def F(x):\n",
    "    value = x*x - 3.\n",
    "    derivative = 2*x\n",
    "    # returned value is a tuple\n",
    "    return (value, derivative)\n",
    "\n",
    "# defining Newton's algorithm as a function\n",
    "def Newton(function, x0):\n",
    "    x = x0\n",
    "    (f, df) = function(x)\n",
    "    print(\"** {:20.16f} has error {:12.6e}\".format(x, abs(f)))\n",
    "    \n",
    "    while abs(f)>1.0e-12:\n",
    "        x -= f/df\n",
    "        (f, df) = function(x)\n",
    "        print(\"** {:20.16f} has error {:12.6e}\".format(x, abs(f)))\n",
    "        \n",
    "    return x\n",
    "        \n",
    "# now run a test\n",
    "print(F)\n",
    "print(Newton(F,1.))\n",
    "print(Newton(F,-1.))\n"
   ]
  },
  {
   "cell_type": "markdown",
   "metadata": {},
   "source": [
    "$$G(x) = sin(x) - \\frac{1}{2}$$"
   ]
  },
  {
   "cell_type": "code",
   "execution_count": 192,
   "metadata": {},
   "outputs": [
    {
     "name": "stdout",
     "output_type": "stream",
     "text": [
      "**   0.5000000000000000 has error 2.057446e-02\n",
      "**   0.5234444738184840 has error 1.336352e-04\n",
      "**   0.5235987687270579 has error 5.950669e-09\n",
      "**   0.5235987755982988 has error 5.551115e-17\n",
      "0.5235987755982988\n"
     ]
    }
   ],
   "source": [
    "def G(x):\n",
    "    value = math.sin(x)-0.5\n",
    "    derivative = math.cos(x)\n",
    "    return (value, derivative)\n",
    "\n",
    "# defining Newton's algorithm as a function\n",
    "def Newton(function, x0):\n",
    "    x = x0\n",
    "    (f, df) = function(x)\n",
    "    print(\"** {:20.16f} has error {:12.6e}\".format(x, abs(f)))\n",
    "    \n",
    "    while abs(f)>1.0e-12:\n",
    "        x -= f/df\n",
    "        (f, df) = function(x)\n",
    "        print(\"** {:20.16f} has error {:12.6e}\".format(x, abs(f)))\n",
    "        \n",
    "    return x\n",
    "\n",
    "print(Newton(G,0.5))"
   ]
  },
  {
   "cell_type": "code",
   "execution_count": 191,
   "metadata": {},
   "outputs": [
    {
     "name": "stdout",
     "output_type": "stream",
     "text": [
      "**   0.5000000000000000 has error 2.057446e-02\n",
      "**   0.5237486410559125 has error 1.297817e-04\n",
      "**   0.5235987820846479 has error 5.617343e-09\n",
      "**   0.5235987755982989 has error 0.000000e+00\n",
      "0.5235987755982989\n"
     ]
    }
   ],
   "source": [
    "##newton rapson - modified newton\n",
    "\n",
    "def G(x):\n",
    "    value = math.sin(x)-0.5\n",
    "    derivative = math.cos(x)\n",
    "    double_derivative = -math.sin(x)\n",
    "    return (value, derivative, double_derivative)\n",
    "\n",
    "# defining the function\n",
    "import math\n",
    "def F(x):\n",
    "    value = x*x - 3.\n",
    "    derivative = 2*x\n",
    "    # returned value is a tuple\n",
    "    return (value, derivative)\n",
    "\n",
    "# defining Newton's algorithm as a function\n",
    "def Newton(function, x0):\n",
    "    x = x0\n",
    "    (f, df, ddf) = function(x)\n",
    "    print(\"** {:20.16f} has error {:12.6e}\".format(x, abs(f)))\n",
    "    \n",
    "    while abs(f)>1.0e-12:\n",
    "        x -= (f*df)/(df**2.-f*ddf)\n",
    "        (f, df, ddf) = function(x)\n",
    "        print(\"** {:20.16f} has error {:12.6e}\".format(x, abs(f)))\n",
    "        \n",
    "    return x\n",
    "        \n",
    "\n",
    "print(Newton(G,0.5))"
   ]
  },
  {
   "cell_type": "markdown",
   "metadata": {},
   "source": [
    "A **while** loop is an easy way to create an infinite loop.  It is recommended to build an emergency exit, e.g. by limiting the number of iterations in the above example:"
   ]
  },
  {
   "cell_type": "code",
   "execution_count": 121,
   "metadata": {},
   "outputs": [
    {
     "name": "stdout",
     "output_type": "stream",
     "text": [
      "**   1.0000000000000000 has error 2.000000e+00\n",
      "**   2.0000000000000000 has error 1.000000e+00\n",
      "**   1.7500000000000000 has error 6.250000e-02\n",
      "**   1.7321428571428572 has error 3.188776e-04\n",
      "**   1.7320508100147276 has error 8.472674e-09\n",
      "**   1.7320508075688772 has error 4.440892e-16\n",
      "1.7320508075688772\n",
      "**  -1.0000000000000000 has error 2.000000e+00\n",
      "**  -2.0000000000000000 has error 1.000000e+00\n",
      "**  -1.7500000000000000 has error 6.250000e-02\n",
      "**  -1.7321428571428572 has error 3.188776e-04\n",
      "**  -1.7320508100147276 has error 8.472674e-09\n",
      "**  -1.7320508075688772 has error 4.440892e-16\n",
      "-1.7320508075688772\n",
      "**   0.0100000000000000 has error 2.999900e+00\n",
      "** 150.0049999999999670 has error 2.249850e+04\n",
      "**  75.0124996666777548 has error 5.623875e+03\n",
      "**  37.5262465006498616 has error 1.405219e+03\n",
      "**  18.8030952736386396 has error 3.505564e+02\n",
      "**   9.4813217366773870 has error 8.689546e+01\n",
      "**   4.8988666588032679 has error 2.099889e+01\n",
      "**   2.7556265990846325 has error 4.593478e+00\n"
     ]
    },
    {
     "ename": "RuntimeError",
     "evalue": "failure to converge",
     "output_type": "error",
     "traceback": [
      "\u001b[1;31m---------------------------------------------------------------------------\u001b[0m",
      "\u001b[1;31mRuntimeError\u001b[0m                              Traceback (most recent call last)",
      "\u001b[1;32m<ipython-input-121-e498b54dee94>\u001b[0m in \u001b[0;36m<module>\u001b[1;34m\u001b[0m\n\u001b[0;32m     23\u001b[0m \u001b[0mprint\u001b[0m\u001b[1;33m(\u001b[0m\u001b[0mNewton\u001b[0m\u001b[1;33m(\u001b[0m\u001b[0mF\u001b[0m\u001b[1;33m,\u001b[0m\u001b[1;36m1.\u001b[0m\u001b[1;33m)\u001b[0m\u001b[1;33m)\u001b[0m\u001b[1;33m\u001b[0m\u001b[1;33m\u001b[0m\u001b[0m\n\u001b[0;32m     24\u001b[0m \u001b[0mprint\u001b[0m\u001b[1;33m(\u001b[0m\u001b[0mNewton\u001b[0m\u001b[1;33m(\u001b[0m\u001b[0mF\u001b[0m\u001b[1;33m,\u001b[0m\u001b[1;33m-\u001b[0m\u001b[1;36m1.\u001b[0m\u001b[1;33m)\u001b[0m\u001b[1;33m)\u001b[0m\u001b[1;33m\u001b[0m\u001b[1;33m\u001b[0m\u001b[0m\n\u001b[1;32m---> 25\u001b[1;33m \u001b[0mprint\u001b[0m\u001b[1;33m(\u001b[0m\u001b[0mNewton\u001b[0m\u001b[1;33m(\u001b[0m\u001b[0mF\u001b[0m\u001b[1;33m,\u001b[0m\u001b[1;36m0.01\u001b[0m\u001b[1;33m)\u001b[0m\u001b[1;33m)\u001b[0m\u001b[1;33m\u001b[0m\u001b[1;33m\u001b[0m\u001b[0m\n\u001b[0m",
      "\u001b[1;32m<ipython-input-121-e498b54dee94>\u001b[0m in \u001b[0;36mNewton\u001b[1;34m(function, x0)\u001b[0m\n\u001b[0;32m     16\u001b[0m         \u001b[0mcnt\u001b[0m \u001b[1;33m+=\u001b[0m \u001b[1;36m1\u001b[0m   \u001b[1;31m# python does not have the ++cnt operation :(\u001b[0m\u001b[1;33m\u001b[0m\u001b[1;33m\u001b[0m\u001b[0m\n\u001b[0;32m     17\u001b[0m         \u001b[1;32mif\u001b[0m \u001b[0mcnt\u001b[0m\u001b[1;33m>\u001b[0m\u001b[1;36m6\u001b[0m\u001b[1;33m:\u001b[0m\u001b[1;33m\u001b[0m\u001b[1;33m\u001b[0m\u001b[0m\n\u001b[1;32m---> 18\u001b[1;33m             \u001b[1;32mraise\u001b[0m \u001b[0mRuntimeError\u001b[0m\u001b[1;33m(\u001b[0m\u001b[1;34m'failure to converge'\u001b[0m\u001b[1;33m)\u001b[0m\u001b[1;33m\u001b[0m\u001b[1;33m\u001b[0m\u001b[0m\n\u001b[0m\u001b[0;32m     19\u001b[0m \u001b[1;33m\u001b[0m\u001b[0m\n\u001b[0;32m     20\u001b[0m     \u001b[1;32mreturn\u001b[0m \u001b[0mx\u001b[0m\u001b[1;33m\u001b[0m\u001b[1;33m\u001b[0m\u001b[0m\n",
      "\u001b[1;31mRuntimeError\u001b[0m: failure to converge"
     ]
    }
   ],
   "source": [
    "# defining Newton's algorithm as a function\n",
    "def Newton(function, x0):\n",
    "    x = x0\n",
    "    (f, df) = function(x)\n",
    "    print(\"** {:20.16f} has error {:12.6e}\".format(x, abs(f)))\n",
    "    \n",
    "    # adding the emergency counter\n",
    "    cnt = 0\n",
    "    \n",
    "    while abs(f)>1.0e-12:\n",
    "        x -= f/df\n",
    "        (f, df) = function(x)\n",
    "        print(\"** {:20.16f} has error {:12.6e}\".format(x, abs(f)))\n",
    "        \n",
    "        # incrementing and checking the emergency counter\n",
    "        cnt += 1   # python does not have the ++cnt operation :(\n",
    "        if cnt>6:\n",
    "            raise RuntimeError('failure to converge')\n",
    "        \n",
    "    return x\n",
    "        \n",
    "# now run a test\n",
    "print(Newton(F,1.))\n",
    "print(Newton(F,-1.))\n",
    "print(Newton(F,0.01))"
   ]
  },
  {
   "cell_type": "markdown",
   "metadata": {},
   "source": [
    "This example demonstrates pythons exception handling mechanism.  Every type of error **raises** an exception. The exception will terminate the program by informing the user WHAT went wrong and WHERE this exception occured.  Common exceptions are DivisionByZero or EOFError, among many others.  You may raise your own exception simply by calling **raise** with or without a specific exception type."
   ]
  },
  {
   "cell_type": "code",
   "execution_count": 123,
   "metadata": {},
   "outputs": [
    {
     "ename": "NameError",
     "evalue": "",
     "output_type": "error",
     "traceback": [
      "\u001b[1;31m---------------------------------------------------------------------------\u001b[0m",
      "\u001b[1;31mNameError\u001b[0m                                 Traceback (most recent call last)",
      "\u001b[1;32m<ipython-input-123-42b67b2fc75d>\u001b[0m in \u001b[0;36m<module>\u001b[1;34m\u001b[0m\n\u001b[1;32m----> 1\u001b[1;33m \u001b[1;32mraise\u001b[0m \u001b[0mNameError\u001b[0m\u001b[1;33m\u001b[0m\u001b[1;33m\u001b[0m\u001b[0m\n\u001b[0m",
      "\u001b[1;31mNameError\u001b[0m: "
     ]
    }
   ],
   "source": [
    "raise NameError"
   ]
  },
  {
   "cell_type": "markdown",
   "metadata": {},
   "source": [
    "<hr>\n",
    "\n",
    "[Jump to chapter 2: Matrix Data Types](./02%20Matrix%20Data%20Types.ipynb)\n",
    "\n",
    "[Back to the outline](./00%20Outline.ipynb)"
   ]
  }
 ],
 "metadata": {
  "kernelspec": {
   "display_name": "Python 3",
   "language": "python",
   "name": "python3"
  },
  "language_info": {
   "codemirror_mode": {
    "name": "ipython",
    "version": 3
   },
   "file_extension": ".py",
   "mimetype": "text/x-python",
   "name": "python",
   "nbconvert_exporter": "python",
   "pygments_lexer": "ipython3",
   "version": "3.7.6"
  }
 },
 "nbformat": 4,
 "nbformat_minor": 4
}
